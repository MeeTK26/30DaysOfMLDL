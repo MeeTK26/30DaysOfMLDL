{
  "nbformat": 4,
  "nbformat_minor": 0,
  "metadata": {
    "colab": {
      "provenance": [],
      "gpuType": "T4",
      "authorship_tag": "ABX9TyME8my4YS35JzDGObM5XQPI",
      "include_colab_link": true
    },
    "kernelspec": {
      "name": "python3",
      "display_name": "Python 3"
    },
    "language_info": {
      "name": "python"
    },
    "accelerator": "GPU"
  },
  "cells": [
    {
      "cell_type": "markdown",
      "metadata": {
        "id": "view-in-github",
        "colab_type": "text"
      },
      "source": [
        "<a href=\"https://colab.research.google.com/github/MeeTK26/30DaysOfMLDL/blob/main/ComparisionOnTransformerandXGBoost(day30).ipynb\" target=\"_parent\"><img src=\"https://colab.research.google.com/assets/colab-badge.svg\" alt=\"Open In Colab\"/></a>"
      ]
    },
    {
      "cell_type": "code",
      "source": [
        "url = \"https://archive.ics.uci.edu/ml/machine-learning-databases/adult/adult.data\"\n",
        "columns = [\n",
        "    \"age\", \"workclass\", \"fnlwgt\", \"education\", \"education-num\", \"marital-status\",\n",
        "    \"occupation\", \"relationship\", \"race\", \"sex\", \"capital-gain\", \"capital-loss\",\n",
        "    \"hours-per-week\", \"native-country\", \"income\"\n",
        "]"
      ],
      "metadata": {
        "id": "kpF5IFbRHB99"
      },
      "execution_count": 42,
      "outputs": []
    },
    {
      "cell_type": "code",
      "source": [
        "import pandas as pd\n",
        "\n",
        "df = pd.read_csv(url, names=columns, na_values=\" ?\", skipinitialspace=True)\n",
        "df.dropna(inplace=True)"
      ],
      "metadata": {
        "id": "K4GRHzpJHCZy"
      },
      "execution_count": 43,
      "outputs": []
    },
    {
      "cell_type": "code",
      "source": [
        "categorical_columns = df.select_dtypes(include=['object']).columns\n",
        "numerical_columns = df.select_dtypes(include=['int64', 'float64']).columns[:-1]"
      ],
      "metadata": {
        "id": "Wxwg35D4HG-j"
      },
      "execution_count": 44,
      "outputs": []
    },
    {
      "cell_type": "code",
      "source": [
        "from sklearn.preprocessing import StandardScaler, LabelEncoder\n",
        "\n",
        "for col in categorical_columns:\n",
        "    df[col] = LabelEncoder().fit_transform(df[col])"
      ],
      "metadata": {
        "id": "dFqFwRF3HN8y"
      },
      "execution_count": 45,
      "outputs": []
    },
    {
      "cell_type": "code",
      "source": [
        "scaler = StandardScaler()\n",
        "df[numerical_columns] = scaler.fit_transform(df[numerical_columns])"
      ],
      "metadata": {
        "id": "keZJFymuHTrF"
      },
      "execution_count": 46,
      "outputs": []
    },
    {
      "cell_type": "code",
      "source": [
        "import numpy as np\n",
        "\n",
        "X = df.drop(columns=[\"income\"]).values\n",
        "y = df[\"income\"].values\n",
        "y = np.expand_dims(y, axis=-1)"
      ],
      "metadata": {
        "id": "yXeIJBnvHVRS"
      },
      "execution_count": 47,
      "outputs": []
    },
    {
      "cell_type": "code",
      "source": [
        "from sklearn.model_selection import train_test_split\n",
        "\n",
        "X_train, X_test, y_train, y_test = train_test_split(X, y, test_size=0.2, random_state=42)"
      ],
      "metadata": {
        "id": "k7wI3kyQHawI"
      },
      "execution_count": 48,
      "outputs": []
    },
    {
      "cell_type": "code",
      "source": [
        "import tensorflow as tf\n",
        "from tensorflow import keras\n",
        "from tensorflow.keras import layers\n",
        "\n",
        "def transformer_block(inputs, head_size, num_heads, ff_dim, dropout=0.1):\n",
        "    x = layers.LayerNormalization(epsilon=1e-6)(inputs)\n",
        "    x = layers.MultiHeadAttention(key_dim=head_size, num_heads=num_heads, dropout=dropout)(x, x)\n",
        "    x = layers.Dropout(dropout)(x)\n",
        "    res = x + inputs\n",
        "\n",
        "    x = layers.LayerNormalization(epsilon=1e-6)(res)\n",
        "    x = layers.Dense(ff_dim, activation=\"relu\")(x)\n",
        "    x = layers.Dropout(dropout)(x)\n",
        "    x = layers.Dense(inputs.shape[-1])(x)\n",
        "    return x + res"
      ],
      "metadata": {
        "id": "zxscPWMRHfMT"
      },
      "execution_count": 49,
      "outputs": []
    },
    {
      "cell_type": "code",
      "source": [
        "inputs = keras.Input(shape=(X_train.shape[1],))\n",
        "x = layers.Dense(128, activation=\"relu\")(inputs)\n",
        "x = layers.Reshape((8, 16))(x)\n",
        "x = transformer_block(x, head_size=64, num_heads=4, ff_dim=128)\n",
        "x = layers.GlobalAveragePooling1D()(x)\n",
        "x = layers.Dense(64, activation=\"relu\")(x)\n",
        "x = layers.Dropout(0.2)(x)\n",
        "outputs = layers.Dense(1, activation=\"sigmoid\")(x)\n",
        "\n"
      ],
      "metadata": {
        "id": "lcnwa-33HpWN"
      },
      "execution_count": 53,
      "outputs": []
    },
    {
      "cell_type": "code",
      "source": [
        "model = keras.Model(inputs, outputs)\n",
        "model.compile(optimizer=\"adam\", loss=\"binary_crossentropy\", metrics=[\"accuracy\"])\n",
        "\n"
      ],
      "metadata": {
        "id": "T2GxIWp4HuFR"
      },
      "execution_count": 54,
      "outputs": []
    },
    {
      "cell_type": "code",
      "source": [
        "model.fit(X_train, y_train, validation_data=(X_test, y_test), batch_size=32, epochs=10)"
      ],
      "metadata": {
        "colab": {
          "base_uri": "https://localhost:8080/"
        },
        "id": "81L80kURHvUJ",
        "outputId": "134b12cf-5e22-43a3-c497-61898148e2c1"
      },
      "execution_count": 55,
      "outputs": [
        {
          "output_type": "stream",
          "name": "stdout",
          "text": [
            "Epoch 1/10\n",
            "\u001b[1m814/814\u001b[0m \u001b[32m━━━━━━━━━━━━━━━━━━━━\u001b[0m\u001b[37m\u001b[0m \u001b[1m20s\u001b[0m 17ms/step - accuracy: 0.7756 - loss: 0.4768 - val_accuracy: 0.8331 - val_loss: 0.3702\n",
            "Epoch 2/10\n",
            "\u001b[1m814/814\u001b[0m \u001b[32m━━━━━━━━━━━━━━━━━━━━\u001b[0m\u001b[37m\u001b[0m \u001b[1m17s\u001b[0m 13ms/step - accuracy: 0.8264 - loss: 0.3776 - val_accuracy: 0.8497 - val_loss: 0.3377\n",
            "Epoch 3/10\n",
            "\u001b[1m814/814\u001b[0m \u001b[32m━━━━━━━━━━━━━━━━━━━━\u001b[0m\u001b[37m\u001b[0m \u001b[1m21s\u001b[0m 14ms/step - accuracy: 0.8372 - loss: 0.3460 - val_accuracy: 0.8458 - val_loss: 0.3306\n",
            "Epoch 4/10\n",
            "\u001b[1m814/814\u001b[0m \u001b[32m━━━━━━━━━━━━━━━━━━━━\u001b[0m\u001b[37m\u001b[0m \u001b[1m21s\u001b[0m 14ms/step - accuracy: 0.8420 - loss: 0.3373 - val_accuracy: 0.8485 - val_loss: 0.3280\n",
            "Epoch 5/10\n",
            "\u001b[1m814/814\u001b[0m \u001b[32m━━━━━━━━━━━━━━━━━━━━\u001b[0m\u001b[37m\u001b[0m \u001b[1m13s\u001b[0m 16ms/step - accuracy: 0.8430 - loss: 0.3364 - val_accuracy: 0.8449 - val_loss: 0.3296\n",
            "Epoch 6/10\n",
            "\u001b[1m814/814\u001b[0m \u001b[32m━━━━━━━━━━━━━━━━━━━━\u001b[0m\u001b[37m\u001b[0m \u001b[1m11s\u001b[0m 14ms/step - accuracy: 0.8395 - loss: 0.3381 - val_accuracy: 0.8440 - val_loss: 0.3295\n",
            "Epoch 7/10\n",
            "\u001b[1m814/814\u001b[0m \u001b[32m━━━━━━━━━━━━━━━━━━━━\u001b[0m\u001b[37m\u001b[0m \u001b[1m19s\u001b[0m 13ms/step - accuracy: 0.8435 - loss: 0.3293 - val_accuracy: 0.8442 - val_loss: 0.3317\n",
            "Epoch 8/10\n",
            "\u001b[1m814/814\u001b[0m \u001b[32m━━━━━━━━━━━━━━━━━━━━\u001b[0m\u001b[37m\u001b[0m \u001b[1m11s\u001b[0m 14ms/step - accuracy: 0.8412 - loss: 0.3372 - val_accuracy: 0.8491 - val_loss: 0.3270\n",
            "Epoch 9/10\n",
            "\u001b[1m814/814\u001b[0m \u001b[32m━━━━━━━━━━━━━━━━━━━━\u001b[0m\u001b[37m\u001b[0m \u001b[1m11s\u001b[0m 14ms/step - accuracy: 0.8479 - loss: 0.3314 - val_accuracy: 0.8503 - val_loss: 0.3252\n",
            "Epoch 10/10\n",
            "\u001b[1m814/814\u001b[0m \u001b[32m━━━━━━━━━━━━━━━━━━━━\u001b[0m\u001b[37m\u001b[0m \u001b[1m11s\u001b[0m 14ms/step - accuracy: 0.8444 - loss: 0.3318 - val_accuracy: 0.8521 - val_loss: 0.3198\n"
          ]
        },
        {
          "output_type": "execute_result",
          "data": {
            "text/plain": [
              "<keras.src.callbacks.history.History at 0x7e80bdfdfa10>"
            ]
          },
          "metadata": {},
          "execution_count": 55
        }
      ]
    },
    {
      "cell_type": "code",
      "source": [
        "_, transformer_acc = model.evaluate(X_test, y_test)\n",
        "\n"
      ],
      "metadata": {
        "colab": {
          "base_uri": "https://localhost:8080/"
        },
        "id": "_qM9hkezIfGR",
        "outputId": "15a9d1a1-bb4e-4914-9bec-739f552d53ce"
      },
      "execution_count": 57,
      "outputs": [
        {
          "output_type": "stream",
          "name": "stdout",
          "text": [
            "\u001b[1m204/204\u001b[0m \u001b[32m━━━━━━━━━━━━━━━━━━━━\u001b[0m\u001b[37m\u001b[0m \u001b[1m1s\u001b[0m 5ms/step - accuracy: 0.8557 - loss: 0.3157\n"
          ]
        }
      ]
    },
    {
      "cell_type": "code",
      "source": [
        "import xgboost as xgb\n",
        "from sklearn.metrics import accuracy_score\n",
        "xgb_model = xgb.XGBClassifier(use_label_encoder=False, eval_metric=\"logloss\")\n",
        "xgb_model.fit(X_train, y_train.ravel())\n",
        "\n",
        "y_pred_xgb = xgb_model.predict(X_test)\n",
        "xgb_acc = accuracy_score(y_test, y_pred_xgb)"
      ],
      "metadata": {
        "colab": {
          "base_uri": "https://localhost:8080/"
        },
        "id": "DxwjMR52JUQt",
        "outputId": "5683069c-cd9f-477f-b204-6569996f248f"
      },
      "execution_count": 60,
      "outputs": [
        {
          "output_type": "stream",
          "name": "stderr",
          "text": [
            "/usr/local/lib/python3.11/dist-packages/xgboost/core.py:158: UserWarning: [16:32:34] WARNING: /workspace/src/learner.cc:740: \n",
            "Parameters: { \"use_label_encoder\" } are not used.\n",
            "\n",
            "  warnings.warn(smsg, UserWarning)\n"
          ]
        }
      ]
    },
    {
      "cell_type": "code",
      "source": [
        "\n",
        "import pandas as pd\n",
        "import matplotlib.pyplot as plt\n",
        "\n",
        "loss_transformer = model.evaluate(X_test, y_test, verbose=0)[0]\n",
        "\n",
        "from sklearn.metrics import log_loss\n",
        "y_pred_proba_xgb = xgb_model.predict_proba(X_test)\n",
        "loss_xgb = log_loss(y_test, y_pred_proba_xgb)\n",
        "\n",
        "\n",
        "results = {\n",
        "    'Model': ['Transformer', 'XGBoost'],\n",
        "    'Accuracy': [transformer_acc, xgb_acc],\n",
        "    'Loss': [loss_transformer, loss_xgb]\n",
        "}\n",
        "\n",
        "\n",
        "df_results = pd.DataFrame(results)\n",
        "\n",
        "plt.figure(figsize=(10, 6))\n",
        "plt.bar(df_results['Model'], df_results['Accuracy'], label='Accuracy', color='blue', alpha=0.7)\n",
        "plt.bar(df_results['Model'], df_results['Loss'], label='Loss', color='red', alpha=0.7)\n",
        "\n",
        "plt.xlabel('Model')\n",
        "plt.ylabel('Metrics')\n",
        "plt.title('Model Comparison: Accuracy and Loss')\n",
        "plt.legend()\n",
        "plt.show()\n",
        "\n"
      ],
      "metadata": {
        "colab": {
          "base_uri": "https://localhost:8080/",
          "height": 532
        },
        "id": "oH3fWITbJZGd",
        "outputId": "dbc38cd8-f71f-4c42-ca4b-5c84cdf1bad1"
      },
      "execution_count": 62,
      "outputs": [
        {
          "output_type": "display_data",
          "data": {
            "text/plain": [
              "<Figure size 1000x600 with 1 Axes>"
            ],
            "image/png": "[encoded data removed]"
          },
          "metadata": {}
        }
      ]
    },
    {
      "cell_type": "code",
      "source": [],
      "metadata": {
        "id": "SME7F0elJpAD"
      },
      "execution_count": null,
      "outputs": []
    }
  ]
}