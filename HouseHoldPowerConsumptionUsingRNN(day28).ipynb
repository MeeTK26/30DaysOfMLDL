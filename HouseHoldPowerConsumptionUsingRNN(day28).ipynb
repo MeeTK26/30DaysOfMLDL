{
  "nbformat": 4,
  "nbformat_minor": 0,
  "metadata": {
    "colab": {
      "provenance": [],
      "gpuType": "T4",
      "authorship_tag": "ABX9TyPJihiICals9JNkpKqELbJs",
      "include_colab_link": true
    },
    "kernelspec": {
      "name": "python3",
      "display_name": "Python 3"
    },
    "language_info": {
      "name": "python"
    },
    "accelerator": "GPU"
  },
  "cells": [
    {
      "cell_type": "markdown",
      "metadata": {
        "id": "view-in-github",
        "colab_type": "text"
      },
      "source": [
        "<a href=\"https://colab.research.google.com/github/MeeTK26/30DaysOfMLDL/blob/main/HouseHoldPowerConsumptionUsingRNN(day28).ipynb\" target=\"_parent\"><img src=\"https://colab.research.google.com/assets/colab-badge.svg\" alt=\"Open In Colab\"/></a>"
      ]
    },
    {
      "cell_type": "code",
      "execution_count": 1,
      "metadata": {
        "id": "32sKqA22kl7t"
      },
      "outputs": [],
      "source": [
        "import pandas as pd\n",
        "import numpy as np"
      ]
    },
    {
      "cell_type": "code",
      "source": [
        "import tensorflow as tf\n",
        "\n",
        "url = \"https://archive.ics.uci.edu/ml/machine-learning-databases/00235/household_power_consumption.zip\"\n",
        "data_path = tf.keras.utils.get_file(\"household_power.zip\", url, extract=True)\n",
        "data_file = data_path.replace(\".zip\", \"\") + \"/household_power_consumption.txt\""
      ],
      "metadata": {
        "colab": {
          "base_uri": "https://localhost:8080/"
        },
        "id": "AotbFY0Jkml8",
        "outputId": "4801c2b1-66e3-4a6c-82dc-6a934cd53e0e"
      },
      "execution_count": 2,
      "outputs": [
        {
          "output_type": "stream",
          "name": "stdout",
          "text": [
            "Downloading data from https://archive.ics.uci.edu/ml/machine-learning-databases/00235/household_power_consumption.zip\n",
            "19759104/Unknown \u001b[1m2s\u001b[0m 0us/step"
          ]
        }
      ]
    },
    {
      "cell_type": "code",
      "source": [
        "df = pd.read_csv(data_file, sep=\";\", parse_dates={\"datetime\": [\"Date\", \"Time\"]}, infer_datetime_format=True,\n",
        "                 na_values=[\"?\"], low_memory=False)\n",
        "df.fillna(method=\"ffill\", inplace=True)\n",
        "df[\"Global_active_power\"] = df[\"Global_active_power\"].astype(float)\n",
        "df.set_index(\"datetime\", inplace=True)"
      ],
      "metadata": {
        "colab": {
          "base_uri": "https://localhost:8080/"
        },
        "id": "8XeWqdcPktR4",
        "outputId": "2468a628-4fca-4da5-870a-7d3023a38185"
      },
      "execution_count": 3,
      "outputs": [
        {
          "output_type": "stream",
          "name": "stderr",
          "text": [
            "<ipython-input-3-c01e95fe4c82>:1: FutureWarning: Support for nested sequences for 'parse_dates' in pd.read_csv is deprecated. Combine the desired columns with pd.to_datetime after parsing instead.\n",
            "  df = pd.read_csv(data_file, sep=\";\", parse_dates={\"datetime\": [\"Date\", \"Time\"]}, infer_datetime_format=True,\n",
            "<ipython-input-3-c01e95fe4c82>:1: FutureWarning: The argument 'infer_datetime_format' is deprecated and will be removed in a future version. A strict version of it is now the default, see https://pandas.pydata.org/pdeps/0004-consistent-to-datetime-parsing.html. You can safely remove this argument.\n",
            "  df = pd.read_csv(data_file, sep=\";\", parse_dates={\"datetime\": [\"Date\", \"Time\"]}, infer_datetime_format=True,\n",
            "<ipython-input-3-c01e95fe4c82>:1: UserWarning: Parsing dates in %d/%m/%Y %H:%M:%S format when dayfirst=False (the default) was specified. Pass `dayfirst=True` or specify a format to silence this warning.\n",
            "  df = pd.read_csv(data_file, sep=\";\", parse_dates={\"datetime\": [\"Date\", \"Time\"]}, infer_datetime_format=True,\n",
            "<ipython-input-3-c01e95fe4c82>:3: FutureWarning: DataFrame.fillna with 'method' is deprecated and will raise in a future version. Use obj.ffill() or obj.bfill() instead.\n",
            "  df.fillna(method=\"ffill\", inplace=True)\n"
          ]
        }
      ]
    },
    {
      "cell_type": "code",
      "source": [
        "from sklearn.preprocessing import MinMaxScaler\n",
        "\n",
        "scaler = MinMaxScaler()\n",
        "df_scaled = scaler.fit_transform(df[[\"Global_active_power\"]])\n",
        "sequence_length = 48"
      ],
      "metadata": {
        "id": "cuUJ9Z5SlWYw"
      },
      "execution_count": 4,
      "outputs": []
    },
    {
      "cell_type": "code",
      "source": [
        "def create_sequences(data, seq_length):\n",
        "    X, y = [], []\n",
        "    for i in range(len(data) - seq_length):\n",
        "        X.append(data[i:i+seq_length])\n",
        "        y.append(data[i+seq_length])\n",
        "    return np.array(X), np.array(y)"
      ],
      "metadata": {
        "id": "cSiQisuVlf2u"
      },
      "execution_count": 5,
      "outputs": []
    },
    {
      "cell_type": "code",
      "source": [
        "from sklearn.model_selection import train_test_split\n",
        "\n",
        "X, y = create_sequences(df_scaled, sequence_length)\n",
        "X_train, X_test, y_train, y_test = train_test_split(X, y, test_size=0.2, random_state=42, shuffle=False)"
      ],
      "metadata": {
        "id": "gJ2QOAa_ljJk"
      },
      "execution_count": 6,
      "outputs": []
    },
    {
      "cell_type": "code",
      "source": [
        "from tensorflow.keras.models import Sequential\n",
        "from tensorflow.keras.layers import SimpleRNN,  Dense\n",
        "\n",
        "rnn_model=Sequential([\n",
        "        SimpleRNN(50, activation=\"relu\", return_sequences=False, input_shape=(sequence_length, 1)),\n",
        "        Dense(1)\n",
        "    ])\n",
        "rnn_model.compile(optimizer=\"adam\", loss=\"mse\")"
      ],
      "metadata": {
        "id": "1KPD__oplnoo"
      },
      "execution_count": 14,
      "outputs": []
    },
    {
      "cell_type": "code",
      "source": [
        "rnn_history = rnn_model.fit(X_train, y_train, epochs=10, batch_size=32, validation_data=(X_test, y_test), verbose=1)\n"
      ],
      "metadata": {
        "colab": {
          "base_uri": "https://localhost:8080/"
        },
        "id": "GO1PaCbpmJpD",
        "outputId": "d3313f4e-a095-47d7-ca1a-1759f19f376d"
      },
      "execution_count": 11,
      "outputs": [
        {
          "output_type": "stream",
          "name": "stdout",
          "text": [
            "Epoch 1/10\n",
            "\u001b[1m51881/51881\u001b[0m \u001b[32m━━━━━━━━━━━━━━━━━━━━\u001b[0m\u001b[37m\u001b[0m \u001b[1m257s\u001b[0m 5ms/step - loss: 6.0984e-04 - val_loss: 3.6602e-04\n",
            "Epoch 2/10\n",
            "\u001b[1m51881/51881\u001b[0m \u001b[32m━━━━━━━━━━━━━━━━━━━━\u001b[0m\u001b[37m\u001b[0m \u001b[1m264s\u001b[0m 5ms/step - loss: 5.6810e-04 - val_loss: 3.5503e-04\n",
            "Epoch 3/10\n",
            "\u001b[1m51881/51881\u001b[0m \u001b[32m━━━━━━━━━━━━━━━━━━━━\u001b[0m\u001b[37m\u001b[0m \u001b[1m322s\u001b[0m 5ms/step - loss: 5.6399e-04 - val_loss: 3.5386e-04\n",
            "Epoch 4/10\n",
            "\u001b[1m51881/51881\u001b[0m \u001b[32m━━━━━━━━━━━━━━━━━━━━\u001b[0m\u001b[37m\u001b[0m \u001b[1m323s\u001b[0m 5ms/step - loss: 5.5993e-04 - val_loss: 3.5736e-04\n",
            "Epoch 5/10\n",
            "\u001b[1m51881/51881\u001b[0m \u001b[32m━━━━━━━━━━━━━━━━━━━━\u001b[0m\u001b[37m\u001b[0m \u001b[1m313s\u001b[0m 5ms/step - loss: 5.5547e-04 - val_loss: 3.6716e-04\n",
            "Epoch 6/10\n",
            "\u001b[1m51881/51881\u001b[0m \u001b[32m━━━━━━━━━━━━━━━━━━━━\u001b[0m\u001b[37m\u001b[0m \u001b[1m271s\u001b[0m 5ms/step - loss: 5.7288e-04 - val_loss: 3.7747e-04\n",
            "Epoch 7/10\n",
            "\u001b[1m51881/51881\u001b[0m \u001b[32m━━━━━━━━━━━━━━━━━━━━\u001b[0m\u001b[37m\u001b[0m \u001b[1m310s\u001b[0m 5ms/step - loss: 5.8563e-04 - val_loss: 3.7500e-04\n",
            "Epoch 8/10\n",
            "\u001b[1m51881/51881\u001b[0m \u001b[32m━━━━━━━━━━━━━━━━━━━━\u001b[0m\u001b[37m\u001b[0m \u001b[1m265s\u001b[0m 5ms/step - loss: 5.6620e-04 - val_loss: 3.9489e-04\n",
            "Epoch 9/10\n",
            "\u001b[1m51881/51881\u001b[0m \u001b[32m━━━━━━━━━━━━━━━━━━━━\u001b[0m\u001b[37m\u001b[0m \u001b[1m260s\u001b[0m 5ms/step - loss: 5.5681e-04 - val_loss: 3.4605e-04\n",
            "Epoch 10/10\n",
            "\u001b[1m51881/51881\u001b[0m \u001b[32m━━━━━━━━━━━━━━━━━━━━\u001b[0m\u001b[37m\u001b[0m \u001b[1m262s\u001b[0m 5ms/step - loss: 5.5555e-04 - val_loss: 3.6736e-04\n"
          ]
        }
      ]
    },
    {
      "cell_type": "code",
      "source": [],
      "metadata": {
        "id": "LnMR90f13rpp"
      },
      "execution_count": null,
      "outputs": []
    }
  ]
}